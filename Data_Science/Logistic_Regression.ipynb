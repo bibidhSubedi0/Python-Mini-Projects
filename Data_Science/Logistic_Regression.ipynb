{
  "nbformat": 4,
  "nbformat_minor": 0,
  "metadata": {
    "colab": {
      "provenance": []
    },
    "kernelspec": {
      "name": "python3",
      "display_name": "Python 3"
    },
    "language_info": {
      "name": "python"
    }
  },
  "cells": [
    {
      "cell_type": "code",
      "execution_count": null,
      "metadata": {
        "id": "gMLIIT_Uzr2a"
      },
      "outputs": [],
      "source": [
        "import pandas as pd\n",
        "import numpy as np\n",
        "import seaborn as sns\n",
        "import matplotlib.pyplot as plt"
      ]
    },
    {
      "cell_type": "code",
      "source": [
        "class logistic_regression:\n",
        "  def __init__(self, lr, epoch):\n",
        "    self.lr = lr\n",
        "    self.epoch = epoch\n",
        "    self.b1 = None # slope value basically\n",
        "    self.b0 = None # intercept value\n",
        "\n",
        "  def apply_sigmoid(self, x):\n",
        "    return 1/(1+np.exp(-x))\n",
        "\n",
        "  def get_loss(self,predicted, actual): # pred is array of predicted values, and actual is the arry of actual values\n",
        "    loss = 0.0\n",
        "    for i in range(len(predicted)):\n",
        "      if actual[i] == 1:\n",
        "        loss += -np.log(predicted[i])\n",
        "      else:\n",
        "        loss += -np.log(1-predicted[i])\n",
        "    return loss/len(predicted)\n",
        "\n",
        "\n",
        "  def get_gradients(self,predicted, actual):\n",
        "    d1 = 0.0 # gradiebt wrt to slope\n",
        "    d0 = 0.0 # gradient wrt to intercept\n",
        "    for i in range(len(predicted)):\n",
        "      prediction = predicted[i]\n",
        "      actual_value = actual[i]\n",
        "      d1 += (prediction-actual_value)*prediction*(1-prediction)\n",
        "      d0 += (prediction-actual_value)\n",
        "\n",
        "    return d1/len(predicted), d0/len(predicted)\n",
        "\n",
        "  def update_values(self, d1, d0):\n",
        "    self.b1 -= self.lr*d1\n",
        "    self.b0 -= self.lr*d0\n",
        "\n",
        "\n",
        "  def predict(self,x):\n",
        "    return self.apply_sigmoid(self.b1*x+self.b0)\n",
        "\n",
        "  def train(self, x, y):\n",
        "    self.b1 = np.random.rand(1)\n",
        "    self.b0 = np.random.rand(1)\n",
        "\n",
        "    for _ in range(self.epoch):\n",
        "      predicted = self.predict(x)\n",
        "      loss = self.get_loss(predicted, y)\n",
        "      d1, d0 = self.get_gradients(predicted, y)\n",
        "      self.update_values(d1, d0)\n",
        "\n",
        "\n",
        "\n",
        "\n"
      ],
      "metadata": {
        "id": "BZ59G3Atz8wp"
      },
      "execution_count": null,
      "outputs": []
    },
    {
      "cell_type": "code",
      "source": [
        "reg = logistic_regression(0.01,1000)"
      ],
      "metadata": {
        "id": "iBiyzcbz0dQ8"
      },
      "execution_count": null,
      "outputs": []
    },
    {
      "cell_type": "code",
      "source": [
        "hours = [3,4,5,2,1]\n",
        "act = [1,1,1,0,0]\n"
      ],
      "metadata": {
        "id": "JQfFa9NS4Mvd"
      },
      "execution_count": null,
      "outputs": []
    },
    {
      "cell_type": "code",
      "source": [
        "reg.train(np.array(hours), np.array(act))\n",
        "pred = reg.predict(np.array(hours))\n",
        "pred"
      ],
      "metadata": {
        "colab": {
          "base_uri": "https://localhost:8080/"
        },
        "id": "ZZqiqAAE6V_B",
        "outputId": "5a5a0c0f-eb30-40f2-8941-e4d1a70945a5"
      },
      "execution_count": null,
      "outputs": [
        {
          "output_type": "execute_result",
          "data": {
            "text/plain": [
              "array([0.60346516, 0.65165837, 0.6969359 , 0.55317614, 0.50177491])"
            ]
          },
          "metadata": {},
          "execution_count": 110
        }
      ]
    }
  ]
}