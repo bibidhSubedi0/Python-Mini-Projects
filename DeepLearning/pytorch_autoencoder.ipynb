{
 "cells": [
  {
   "cell_type": "code",
   "execution_count": 46,
   "id": "b2051444",
   "metadata": {},
   "outputs": [],
   "source": [
    "import torch.nn as nn\n",
    "import torch\n",
    "import numpy\n",
    "import itertools"
   ]
  },
  {
   "cell_type": "code",
   "execution_count": 47,
   "id": "1f61b6b7",
   "metadata": {},
   "outputs": [],
   "source": [
    "it = torch.tensor([(0.0, 0.0, 0.0),\n",
    " (0.0, 0.0, 1.0),\n",
    " (0.0, 1.0, 0.0),\n",
    " (0.0, 1.0, 1.0),\n",
    " (1.0, 0.0, 0.0),\n",
    " (1.0, 0.0, 1.0),\n",
    " (1.0, 1.0, 0.0),\n",
    " (1.0, 1.0, 1.0)])\n",
    "ol = it"
   ]
  },
  {
   "cell_type": "code",
   "execution_count": null,
   "id": "b9eb69c5",
   "metadata": {},
   "outputs": [],
   "source": [
    "from torch.nn import CrossEntropyLoss\n",
    "from torch.nn import MSELoss\n",
    "import torch.optim as optim"
   ]
  },
  {
   "cell_type": "code",
   "execution_count": 67,
   "id": "902fc7ca",
   "metadata": {},
   "outputs": [
    {
     "name": "stdout",
     "output_type": "stream",
     "text": [
      "Predicted output :  tensor([[0.0828, 0.0795, 0.0775],\n",
      "        [0.0852, 0.0804, 0.9131],\n",
      "        [0.0765, 0.9205, 0.0769],\n",
      "        [0.0854, 0.9258, 0.9446],\n",
      "        [0.9229, 0.0642, 0.0761],\n",
      "        [0.9491, 0.0781, 0.9235],\n",
      "        [0.9125, 0.9450, 0.0938],\n",
      "        [0.8859, 0.8826, 0.8837]], grad_fn=<SigmoidBackward0>)\n",
      "Input :  tensor([[0., 0., 0.],\n",
      "        [0., 0., 1.],\n",
      "        [0., 1., 0.],\n",
      "        [0., 1., 1.],\n",
      "        [1., 0., 0.],\n",
      "        [1., 0., 1.],\n",
      "        [1., 1., 0.],\n",
      "        [1., 1., 1.]])\n",
      "Loss :  tensor(0.0069, grad_fn=<MseLossBackward0>)\n"
     ]
    }
   ],
   "source": [
    "model = nn.Sequential(\n",
    "    nn.Linear(3, 6),\n",
    "    nn.Sigmoid(),\n",
    "    nn.Linear(6, 3),\n",
    "    nn.Sigmoid()\n",
    ")\n",
    " # The actual architecture of the neural network\n",
    "opt = optim.SGD(model.parameters(),lr=0.1) # The stocastic gardient descent as an optimizer\n",
    "# ce = nn.CrossEntropyLoss()  # Using the binary crossentropy as the models loss function\n",
    "ce = nn.MSELoss()\n",
    "\n",
    "for i in range(10000):\n",
    "    opt.zero_grad()\n",
    "    out = model(it) # Predicting the output by forward propogation\n",
    "    l = ce(out,it) # Calculating the loss between the predicted output and groud truth\n",
    "    l.backward() # Perfrome the back propogation using the loss to calculate the gradietns of all the parameters of the network\n",
    "    opt.step() # Use the gradeitns to update the parameter's values\n",
    "\n",
    "print(\"Predicted output : \", out) # Predicted output\n",
    "print(\"Input : \", it) # Predicted output\n",
    "print(\"Loss : \",l)"
   ]
  },
  {
   "cell_type": "code",
   "execution_count": null,
   "id": "15512d11",
   "metadata": {},
   "outputs": [],
   "source": []
  },
  {
   "cell_type": "code",
   "execution_count": null,
   "id": "93e2625c",
   "metadata": {},
   "outputs": [],
   "source": []
  }
 ],
 "metadata": {
  "kernelspec": {
   "display_name": "venv",
   "language": "python",
   "name": "python3"
  },
  "language_info": {
   "codemirror_mode": {
    "name": "ipython",
    "version": 3
   },
   "file_extension": ".py",
   "mimetype": "text/x-python",
   "name": "python",
   "nbconvert_exporter": "python",
   "pygments_lexer": "ipython3",
   "version": "3.13.3"
  }
 },
 "nbformat": 4,
 "nbformat_minor": 5
}
